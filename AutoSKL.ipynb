{
  "cells": [
    {
      "cell_type": "code",
      "execution_count": null,
      "metadata": {
        "id": "EM3a_L1MPF2R"
      },
      "outputs": [],
      "source": [
        "!apt-get install swig -y\n",
        "!pip install Cython\n",
        "!pip install auto-sklearn"
      ]
    },
    {
      "cell_type": "code",
      "execution_count": null,
      "metadata": {
        "id": "nHfkb8UdPVqJ"
      },
      "outputs": [],
      "source": [
        "import pandas as pd\n",
        "import numpy as np\n",
        "from glob import glob\n",
        "import os\n",
        "from sklearn.model_selection import RepeatedKFold\n",
        "\n",
        "from autosklearn.regression import AutoSklearnRegressor\n",
        "\n",
        "import warnings\n",
        "warnings.filterwarnings('ignore')"
      ]
    },
    {
      "cell_type": "code",
      "execution_count": null,
      "metadata": {
        "id": "v1ANkSWwPo6s"
      },
      "outputs": [],
      "source": [
        "def repeatedKfold(n_splits=10, n_repeats=2, random_state=42) :\n",
        "  rkf = RepeatedKFold(n_splits=n_splits, n_repeats=n_repeats, random_state=random_state)\n",
        "  all_result = []\n",
        "  data_frame = []\n",
        "  count = 0\n",
        "\n",
        "\n",
        "  for train_index, test_index in rkf.split(X, y):\n",
        "        count = count+1\n",
        "        print(count)\n",
        "        X_train, X_test = X.iloc[train_index], X.iloc[test_index]\n",
        "        y_train, y_test = y.iloc[train_index], y.iloc[test_index]\n",
        "  \n",
        "        autoslk = AutoSklearnRegressor()\n",
        "        autoslk.fit(X_train, y_train)\n",
        "\n",
        "        y_pred  = autoslk.predict(X_test)\n",
        "\n",
        "        data_frame.append(y_pred)\n",
        "       \n",
        "        path = dataset\n",
        "        head, tail = os.path.split(path)\n",
        "        \n",
        "        test = np.column_stack((test_index, y_test))\n",
        "        pd.DataFrame(test).to_csv('/content/AutoSKL/'+tail+'/Test{}.csv'.format(count), index = False)\n",
        "        pred = np.column_stack((test_index, y_pred))\n",
        "        pd.DataFrame(pred).to_csv('/content/AutoSKL/'+tail+'/Pred{}.csv'.format(count), index = False)"
      ]
    },
    {
      "cell_type": "code",
      "source": [
        "!git clone 'https://github.com/JusciAvelino/AutoML.git'"
      ],
      "metadata": {
        "id": "jOfik6m_dWgh"
      },
      "execution_count": null,
      "outputs": []
    },
    {
      "cell_type": "code",
      "execution_count": null,
      "metadata": {
        "id": "BUdyxkosdW-y"
      },
      "outputs": [],
      "source": [
        "data_sets = sorted(glob(r\"/content/AutoML/data/*.csv\"))"
      ]
    },
    {
      "cell_type": "code",
      "execution_count": null,
      "metadata": {
        "id": "0idy1E69dKzU"
      },
      "outputs": [],
      "source": [
        "for i, dataset in enumerate(data_sets):\n",
        "        \n",
        "      ds = pd.read_csv(dataset)\n",
        "\n",
        "      path = dataset\n",
        "      head, tail = os.path.split(path)\n",
        "      print(\"=====================\")\n",
        "      print(path)\n",
        "      dir = '/content/AutoSKL/'+tail+''       \n",
        "      os.makedirs(dir)\n",
        "\n",
        "      X = ds.drop([ds.columns[0]], axis = 1)\n",
        "      y = ds[ds.columns[0]]\n",
        "      repeatedKfold()"
      ]
    }
  ],
  "metadata": {
    "colab": {
      "collapsed_sections": [],
      "provenance": []
    },
    "kernelspec": {
      "display_name": "Python 3",
      "name": "python3"
    },
    "language_info": {
      "name": "python"
    }
  },
  "nbformat": 4,
  "nbformat_minor": 0
}