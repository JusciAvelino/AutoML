{
  "nbformat": 4,
  "nbformat_minor": 0,
  "metadata": {
    "colab": {
      "provenance": [],
      "collapsed_sections": []
    },
    "kernelspec": {
      "name": "python3",
      "display_name": "Python 3"
    },
    "language_info": {
      "name": "python"
    }
  },
  "cells": [
    {
      "cell_type": "code",
      "source": [
        "!pip install requests\n",
        "!pip install tabulate\n",
        "!pip install future\n",
        "!pip uninstall h2o\n",
        "!pip install -f http://h2o-release.s3.amazonaws.com/h2o/latest_stable_Py.html h2o"
      ],
      "metadata": {
        "id": "PIporCR84PkW"
      },
      "execution_count": null,
      "outputs": []
    },
    {
      "cell_type": "code",
      "execution_count": 17,
      "metadata": {
        "id": "qMm8rQy330T7"
      },
      "outputs": [],
      "source": [
        "import pandas as pd\n",
        "import numpy as np\n",
        "from glob import glob\n",
        "import os\n",
        "from sklearn.model_selection import train_test_split, RepeatedKFold\n",
        "\n",
        "from h2o.sklearn import H2OAutoMLRegressor\n",
        "\n",
        "import warnings\n",
        "warnings.filterwarnings(action='ignore')"
      ]
    },
    {
      "cell_type": "code",
      "source": [
        "def repeatedKfold(n_splits=10, n_repeats=2, random_state=42) :\n",
        "  rkf = RepeatedKFold(n_splits=n_splits, n_repeats=n_repeats, random_state=random_state)\n",
        "  all_result = []\n",
        "  data_frame = []\n",
        "  count = 0\n",
        "\n",
        "\n",
        "  for train_index, test_index in rkf.split(X, y):\n",
        "        count = count+1\n",
        "        print(count)\n",
        "        X_train, X_test = X.iloc[train_index], X.iloc[test_index]\n",
        "        y_train, y_test = y.iloc[train_index], y.iloc[test_index]\n",
        "\n",
        "        X_train = X_train.to_numpy()\n",
        "        y_train = y_train.to_numpy()\n",
        "\n",
        "        X_test = X_test.to_numpy()\n",
        "        y_test = y_test.to_numpy()  \n",
        "\n",
        "        H2O = H2OAutoMLRegressor()        \n",
        "        H2O.fit(X_train, y_train)\n",
        "\n",
        "        y_pred  = H2O.predict(X_test)\n",
        "\n",
        "        data_frame.append(y_pred)\n",
        "\n",
        "        path = dataset\n",
        "        head, tail = os.path.split(path)\n",
        "        \n",
        "        test = np.column_stack((test_index, y_test))\n",
        "        pd.DataFrame(test).to_csv('/content/H2O/'+tail+'/Test{}.csv'.format(count), index = False)\n",
        "        pred = np.column_stack((test_index, y_pred))\n",
        "        pd.DataFrame(pred).to_csv('/content/H2O/'+tail+'/Pred{}.csv'.format(count), index = False)"
      ],
      "metadata": {
        "id": "xktqp1Nn5okZ"
      },
      "execution_count": 26,
      "outputs": []
    },
    {
      "cell_type": "code",
      "source": [
        "!git clone 'https://github.com/JusciAvelino/AutoML.git'"
      ],
      "metadata": {
        "id": "F5axem5Y5Q1N"
      },
      "execution_count": null,
      "outputs": []
    },
    {
      "cell_type": "code",
      "source": [
        "data_sets = sorted(glob(r\"/content/AutoML/data/*.csv\"))"
      ],
      "metadata": {
        "id": "C_bcgE8a5_Yo"
      },
      "execution_count": 18,
      "outputs": []
    },
    {
      "cell_type": "code",
      "source": [
        "for i, dataset in enumerate(data_sets):\n",
        "        \n",
        "      ds = pd.read_csv(dataset)\n",
        "\n",
        "      path = dataset\n",
        "      head, tail = os.path.split(path)\n",
        "      print(\"=====================\")\n",
        "      print(path)\n",
        "      dir = '/content/H2O/'+tail+''       \n",
        "      os.makedirs(dir)\n",
        "\n",
        "      X = ds.drop([ds.columns[0]], axis = 1)\n",
        "      y = ds[ds.columns[0]]\n",
        "\n",
        "      repeatedKfold()"
      ],
      "metadata": {
        "id": "-NCGAcQN6AlU"
      },
      "execution_count": null,
      "outputs": []
    }
  ]
}